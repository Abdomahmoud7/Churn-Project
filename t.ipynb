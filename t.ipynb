{
 "cells": [
  {
   "cell_type": "code",
   "execution_count": 17,
   "id": "d8a220ed",
   "metadata": {},
   "outputs": [],
   "source": [
    "from utils.CustomerData import CustomerData\n",
    "import pandas as pd\n",
    "from utils.config import preprocessor, forest_model"
   ]
  },
  {
   "cell_type": "code",
   "execution_count": 18,
   "id": "e8e02d23",
   "metadata": {},
   "outputs": [],
   "source": [
    "data = CustomerData(\n",
    "    CreditScore=650,\n",
    "    Geography=\"France\",\n",
    "    Gender=\"Male\",\n",
    "    Age=35,\n",
    "    Tenure=5,\n",
    "    Balance=12500.75,\n",
    "    NumOfProducts=2,\n",
    "    HasCrCard=1,\n",
    "    IsActiveMember=0,\n",
    "    EstimatedSalary=55000.0\n",
    ")"
   ]
  },
  {
   "cell_type": "code",
   "execution_count": 19,
   "id": "380d3c46",
   "metadata": {},
   "outputs": [],
   "source": [
    "new = pd.DataFrame([data.model_dump()])"
   ]
  },
  {
   "cell_type": "code",
   "execution_count": 20,
   "id": "a32cb615",
   "metadata": {},
   "outputs": [
    {
     "data": {
      "text/plain": [
       "False"
      ]
     },
     "execution_count": 20,
     "metadata": {},
     "output_type": "execute_result"
    }
   ],
   "source": [
    "processed = preprocessor.transform(new)\n",
    "bool(forest_model.predict(processed)[0])"
   ]
  },
  {
   "cell_type": "code",
   "execution_count": 21,
   "id": "a8d8f4b6",
   "metadata": {},
   "outputs": [
    {
     "data": {
      "text/plain": [
       "{'CreditScore': 650,\n",
       " 'Geography': 'France',\n",
       " 'Gender': 'Male',\n",
       " 'Age': 35,\n",
       " 'Tenure': 5,\n",
       " 'Balance': 12500.75,\n",
       " 'NumOfProducts': 2,\n",
       " 'HasCrCard': 1,\n",
       " 'IsActiveMember': 0,\n",
       " 'EstimatedSalary': 55000.0}"
      ]
     },
     "execution_count": 21,
     "metadata": {},
     "output_type": "execute_result"
    }
   ],
   "source": [
    "data.model_dump()"
   ]
  },
  {
   "cell_type": "code",
   "execution_count": null,
   "id": "56381d08",
   "metadata": {},
   "outputs": [],
   "source": []
  }
 ],
 "metadata": {
  "kernelspec": {
   "display_name": "depi33",
   "language": "python",
   "name": "python3"
  },
  "language_info": {
   "codemirror_mode": {
    "name": "ipython",
    "version": 3
   },
   "file_extension": ".py",
   "mimetype": "text/x-python",
   "name": "python",
   "nbconvert_exporter": "python",
   "pygments_lexer": "ipython3",
   "version": "3.10.9"
  }
 },
 "nbformat": 4,
 "nbformat_minor": 5
}
